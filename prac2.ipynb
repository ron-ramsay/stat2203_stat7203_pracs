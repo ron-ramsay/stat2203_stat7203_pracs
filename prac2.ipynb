{
 "cells": [
  {
   "cell_type": "markdown",
   "metadata": {
    "collapsed": true
   },
   "source": [
    "# Practical 2 \n",
    "\n",
    "* Ron Ramsay's solutions to a practical problem set given within courses STAT2203/STAT7203 at the University of Queensland in Semester 2, 2020.\n",
    "* A generalistic and programmatic approach is taken using Python 3.8."
   ]
  },
  {
   "cell_type": "code",
   "execution_count": 1,
   "metadata": {},
   "outputs": [],
   "source": [
    "import itertools\n",
    "from math import factorial\n",
    "from typing import Iterable\n",
    "\n",
    "import numpy as np"
   ]
  },
  {
   "cell_type": "markdown",
   "metadata": {},
   "source": [
    "## Question 1\n",
    "\n",
    "Warren Buffet challenges Bill Gates to a game of dice. Gates picks one of the\n",
    "following four sided dice, then Buffet chooses one of the remaining dice. Whoever\n",
    "rolls the highest number wins. The three dice have the following numbers on their\n",
    "faces:\n",
    "\n",
    "    (die A): 12, 10, 3, 1\n",
    "    (die B): 9, 8, 7, 2\n",
    "    (die C): 11, 6, 5, 4\n",
    "  \n",
    "What is the probability of Buffett winning the game, assuming he chooses his die\n",
    "to maximise his probability of winning?\n",
    "\n",
    "##### Solution:\n",
    "\n",
    "Let's define the problem's objects:"
   ]
  },
  {
   "cell_type": "code",
   "execution_count": 2,
   "metadata": {},
   "outputs": [],
   "source": [
    "dice = {\n",
    "    'A': (12, 10, 3, 1),\n",
    "    'B': (9, 8, 7, 2),\n",
    "    'C': (11, 6, 5, 4)}"
   ]
  },
  {
   "cell_type": "markdown",
   "metadata": {},
   "source": [
    "**Which dice will the players choose?** Between two dice, first consider all the permutations of one roll each, and determine the proportion of rolls that win (i.e. have the higher rolled number) for a player; that will be the expectation of winning.\n",
    "\n",
    "e.g. Such permutations for dice A and B are:"
   ]
  },
  {
   "cell_type": "code",
   "execution_count": 3,
   "metadata": {},
   "outputs": [
    {
     "name": "stdout",
     "output_type": "stream",
     "text": [
      "[(12, 9), (12, 8), (12, 7), (12, 2), (10, 9), (10, 8), (10, 7), (10, 2), (3, 9), (3, 8), (3, 7), (3, 2), (1, 9), (1, 8), (1, 7), (1, 2)]\n"
     ]
    }
   ],
   "source": [
    "print(list(itertools.product(dice['A'], dice['B'])))"
   ]
  },
  {
   "cell_type": "markdown",
   "metadata": {},
   "source": [
    "The condition of the first die outcome beating the second, for each of those rolls, are:"
   ]
  },
  {
   "cell_type": "code",
   "execution_count": 4,
   "metadata": {},
   "outputs": [
    {
     "name": "stdout",
     "output_type": "stream",
     "text": [
      "[True, True, True, True, True, True, True, True, False, False, False, True, False, False, False, False]\n"
     ]
    }
   ],
   "source": [
    "print([a > b for (a, b) in itertools.product(dice['A'], dice['B'])])"
   ]
  },
  {
   "cell_type": "markdown",
   "metadata": {},
   "source": [
    "The expectation of winning is the mean of those outcomes:"
   ]
  },
  {
   "cell_type": "code",
   "execution_count": 5,
   "metadata": {},
   "outputs": [
    {
     "data": {
      "text/plain": [
       "0.5625"
      ]
     },
     "execution_count": 5,
     "metadata": {},
     "output_type": "execute_result"
    }
   ],
   "source": [
    "np.array([a > b for (a, b) in itertools.product(dice['A'], dice['B'])]).mean()"
   ]
  },
  {
   "cell_type": "markdown",
   "metadata": {},
   "source": [
    "Consolidating this process into a callable function, **the expectation of one dice beating another** is:"
   ]
  },
  {
   "cell_type": "code",
   "execution_count": 6,
   "metadata": {},
   "outputs": [],
   "source": [
    "def two_dice_expectation(A: Iterable, B: Iterable) -> float:\n",
    "    \"return the expectation that dice `A` beats `B`.\"\n",
    "    return np.array([a > b for (a, b) in itertools.product(A, B)]).mean()"
   ]
  },
  {
   "cell_type": "markdown",
   "metadata": {},
   "source": [
    "In our problem, let's see what the **expectation of winnings** are between **all pair combinations of dice**:"
   ]
  },
  {
   "cell_type": "code",
   "execution_count": 7,
   "metadata": {},
   "outputs": [
    {
     "name": "stdout",
     "output_type": "stream",
     "text": [
      "('A', 'B') 0.5625\n",
      "('C', 'A') 0.5625\n",
      "('B', 'C') 0.5625\n"
     ]
    }
   ],
   "source": [
    "for pair_keys in itertools.combinations(dice.keys(), r=2):\n",
    "    expectation = two_dice_expectation(*[dice[key] for key in pair_keys])\n",
    "    if expectation >= 0.5:\n",
    "        print(pair_keys, expectation)\n",
    "    else:\n",
    "        print(pair_keys[::-1], 1 - expectation) # reverse the keys; take the complement"
   ]
  },
  {
   "cell_type": "markdown",
   "metadata": {},
   "source": [
    "Examining those results, we see a **cyclical situation** whereby: A beats B, B beats C, and C beats A,  --all at the same expectation of 56.25%.\n",
    "\n",
    "Whichever die Bill Gates (nominated as the first player) picks, Warren Buffet will then choose the die that beats it. The **expectation of Buffett winning the game is 0.5625**.\n",
    "\n",
    "The interesting thing about this game (with the set of dice given) is that: the player who is given the first choice of die is actually at a disadvantage.\n",
    "\n",
    "_My extension question:_ \n",
    "Consider how the choice of die might be made for other sets of dice."
   ]
  },
  {
   "cell_type": "code",
   "execution_count": 8,
   "metadata": {},
   "outputs": [],
   "source": [
    "# (Tidy up to remove objects no longer needed.)\n",
    "del dice, two_dice_expectation"
   ]
  },
  {
   "cell_type": "markdown",
   "metadata": {},
   "source": [
    "## Question 2\n",
    "We draw at random 5 numbers from $\\left \\{1, ..., 100 \\right \\}$, *with replacement* \n",
    "(e.g. drawing number 9 twice is possible). \n",
    "What is the probability that exactly 3 numbers are even?\n",
    "\n",
    "##### Solution:\n",
    "\n",
    "The probability that a single draw is an even number is $\\frac{50}{100} = \\frac{1}{2}$, so let's take advantage of the Equilikely Principle. We will consider the ratio of the number of possible outcomes in our event to that of the complete state space.\n",
    "\n",
    "Let $A$ be our event, (whereby an outcome has an even number for exactly 3 of the 5 draws).\n",
    "\n",
    "The number of outcomes in our event is: $|A| = {^{5}\\textrm{C}_{3}} = \\binom{5}{3} = \\frac{5!}{3!(5-3)!} = \\frac{5 \\times 4}{2 \\times 1}= 10$. \n",
    "\n",
    ">This is equivalent to the _binomial coeficient_ which counts the number of ways in which $r$ objects can be chosen from $n$ possibilities when order doesn't matter. In our case, it's the number of ways we can _choose_ exactly 3 of the 5 draws to be even number.\n",
    "\n",
    "There are $2^5$ potential outcomes, so the cardinality of our state space is: $|\\Omega| = 32$.\n",
    "\n",
    "The ratio of these is the probability of our event: $\\mathbb{P}(A) = \\frac{|A|}{|\\Omega|} = \\frac{10}{32} = 0.3125$."
   ]
  },
  {
   "cell_type": "code",
   "execution_count": 9,
   "metadata": {},
   "outputs": [
    {
     "name": "stdout",
     "output_type": "stream",
     "text": [
      "Probability of event: 0.3125\n"
     ]
    }
   ],
   "source": [
    "def binomial_coefficient(n: int, r: int) -> int: \n",
    "    \"\"\"\n",
    "    Return the number of ways in which `r` objects can be chosen \n",
    "    from `n` possibilities when order doesn't matter. \"\"\"\n",
    "    return int(factorial(n) / factorial(r) / factorial(n - r))\n",
    "\n",
    "n = 5\n",
    "r = 3\n",
    "\n",
    "event_cardinality = binomial_coefficient(n, r)\n",
    "omega_cardinality = 2**n\n",
    "\n",
    "print(\"Probability of event:\", event_cardinality / omega_cardinality)"
   ]
  },
  {
   "cell_type": "code",
   "execution_count": 10,
   "metadata": {},
   "outputs": [],
   "source": [
    "# (Tidy up to remove objects no longer needed.)\n",
    "del n, r, event_cardinality, omega_cardinality  #, binomial_coefficient"
   ]
  },
  {
   "cell_type": "markdown",
   "metadata": {},
   "source": [
    "## Question 3\n",
    "We draw at random 5 numbers from $\\left \\{1, ..., 100 \\right \\}$, *without replacement*. What is the\n",
    "probability that exactly 3 numbers are even?\n",
    "\n",
    "##### Solution:\n",
    "\n",
    "As in the previous question, the number of elemental outcomes in our event remains the same: $|A| = 10$. However, because numbers are not replaced back into the set between draws, the probabilities of odds and evens is affected after each draw. \n",
    "For example, although the probability of an even number for the first draw will remain at $\\frac{50}{100}$, probabilities for the second draw are dependent on the first, e.g. if the first draw is even, then the probability of even in the second draw is $\\frac{49}{99}$, whereas the probability of odd in the second draw is $\\frac{50}{99}$. There are a different sequence of such fractions for each of the 10 permutations (of 3 even and 2 odd draws), but it can be shown (if one posessed skill and stamina) that the product of all 5 fractions for any of the 10 permutations is equal to $\\frac{50 \\times 49 \\times 48 \\times 50 \\times 49}{100 \\times 99 \\times 98 \\times 97 \\times 96}$. The answer to question is $10 \\frac{50 \\times 49 \\times 48 \\times 50 \\times 49}{100 \\times 99 \\times 98 \\times 97 \\times 96} \\approx 0.31891$."
   ]
  },
  {
   "cell_type": "code",
   "execution_count": 11,
   "metadata": {},
   "outputs": [
    {
     "name": "stdout",
     "output_type": "stream",
     "text": [
      "Answer: Probability: 0.318910757055087\n"
     ]
    }
   ],
   "source": [
    "def question_3_type_problem(n_pool: int, n_draw: int, n_success: int) -> float:\n",
    "    \n",
    "    assert n_pool % 2 == 0, \"The pool must hold an even number of elements.\"\n",
    "    assert n_pool / 2 >= n_draw, \"Drawing more than half of the pool is not catered for in this implementation.\"\n",
    "    \n",
    "    n_perms = binomial_coefficient(n_draw, n_success)\n",
    "    \n",
    "    numerators = np.array(\n",
    "        [n_pool / 2 - i for i in range(n_success)] +\n",
    "        [n_pool / 2 - i for i in range(n_draw - n_success)])\n",
    "    \n",
    "    denominators = np.array([n_pool - i for i in range(n_draw)])\n",
    "    \n",
    "    return n_perms * np.product(numerators) / np.product(denominators)\n",
    "\n",
    "print(\"Answer: Probability:\", question_3_type_problem(n_pool=100, n_draw=5, n_success=3))"
   ]
  },
  {
   "cell_type": "markdown",
   "metadata": {},
   "source": [
    "Here is an (completely untested) answer for the same problem but for a reduced pool of $\\left \\{1, ..., 10 \\right \\}$:"
   ]
  },
  {
   "cell_type": "code",
   "execution_count": 12,
   "metadata": {},
   "outputs": [
    {
     "name": "stdout",
     "output_type": "stream",
     "text": [
      "For reduced pool of 10: Probability: 0.3968253968253968\n"
     ]
    }
   ],
   "source": [
    "print(\"For reduced pool of 10: Probability:\", question_3_type_problem(n_pool=10, n_draw=5, n_success=3))"
   ]
  },
  {
   "cell_type": "markdown",
   "metadata": {},
   "source": [
    "## Question 4\n",
    "Let $Y$ be a number drawn at random from $\\left \\{ 1, 2, ..., 60 \\right \\}$; (all numbers are equally\n",
    "likely to be drawn).\n",
    "\n",
    "(a) What is the probability that $Y$ is divisible by 2?\n",
    "\n",
    "(b) What is the probability that $Y$ is divisible by 2 or 3?\n",
    "\n",
    "(c) What is the probability that $Y$ is divisible by 2 or 3 or 5?\n",
    "\n",
    "\n",
    "##### Solution:"
   ]
  },
  {
   "cell_type": "code",
   "execution_count": 13,
   "metadata": {},
   "outputs": [
    {
     "name": "stdout",
     "output_type": "stream",
     "text": [
      "Probability of a draw being divisable by an element within a given set:\n",
      "{2} : 0.5\n",
      "{2, 3} : 0.6666666666666666\n",
      "{2, 3, 5} : 0.7333333333333333\n"
     ]
    }
   ],
   "source": [
    "def divisible_by(n: int, divisors: Iterable) -> bool:\n",
    "    \"Returns whether `n` is divisible by any of `divisors`.\"\n",
    "    for e in divisors:\n",
    "        if n % e == 0:\n",
    "            return True\n",
    "    return False\n",
    "\n",
    "N = 60\n",
    "omega = set(range(1, N + 1))\n",
    "\n",
    "print(\"Probability of a draw being divisable by an element within a given set:\")\n",
    "for divisors in ({2}, {2, 3}, {2, 3, 5}):\n",
    "    divisables = {e for e in omega if divisible_by(e, divisors)}\n",
    "    print(divisors, \":\", len(divisables) / N)"
   ]
  },
  {
   "cell_type": "markdown",
   "metadata": {},
   "source": [
    "## Question 5\n",
    "Let $(a_1, ... , a_n)$ be a random permutation of the integers $ \\left \\{ 1, 2, ..., n \\right \\}$ with all permuations equally likely.\n",
    "\n",
    "   (a) What is the probability that $a_1 = 1$?\n",
    "\n",
    "   (b) What is the probability that $a_1 = 1$ or $a_2 = 2$?\n",
    "\n",
    "   (c) What is the probability that $a_1 = 1$ or $a_2 = 2$ or $a_3 = 3$?\n",
    "   \n",
    "##### Solution:\n",
    "\n",
    "The number of permutations in the state space is: $|\\Omega| = n!$. \n",
    "\n",
    "\n",
    "(a) \n",
    "\n",
    "If $a_1$ is fixed, then there remains $(n-1)!$ permutations of the remaining $n-1$ elements.\n",
    "\n",
    "$$\\mathbb{P}(a_1 = 1) = \\frac{(n-1)!}{n!} = \\frac{1}{n}$$\n",
    "\n",
    "\n",
    "(b)\n",
    "\n",
    "$$\\mathbb{P}(a_1 = 1 \\vee a_2 = 2)$$ \n",
    "\n",
    "$$ = \\mathbb{P}(a_1 = 1) + \\mathbb{P}(a_2 = 2) - \\mathbb{P}(a_1 = 1 \\wedge a_2 = 2)$$\n",
    "\n",
    "$$ = \\frac{1}{n} + \\frac{1}{n} - \\frac {\\binom{n}{2}}{n^2}$$\n",
    "\n",
    "$$ = \\frac{2}{n} - \\frac {n!}{2!n^2(n-2!)} $$\n",
    "\n",
    "\n",
    "\n",
    "(c)\n",
    "\n",
    "$$\\mathbb{P}(a_1 = 1 \\vee a_2 = 2 \\vee a_3 = 3)$$ \n",
    "\n",
    "$$ = \\mathbb{P}(a_1 = 1) + \\mathbb{P}(a_2 = 2) + \\mathbb{P}(a_3 = 3) - 3 \\cdot \\mathbb{P}(a_1 = 1 \\wedge a_2 = 2) - \\mathbb{P}(a_1 = 1 \\wedge a_2 = 2 \\wedge a_3 = 3)$$\n",
    "\n",
    "$$ = \\frac{3}{n} - 3\\frac {\\binom{n}{2}}{n^2} - \\frac {\\binom{n}{3}}{n^3}$$\n"
   ]
  },
  {
   "cell_type": "markdown",
   "metadata": {},
   "source": [
    "## Question 6\n",
    "Testing whether a multivariate polynomial is equal to zero is a standard problem\n",
    "in computational complexity. We will consider the following simpler setting. Let\n",
    "$G$ be a polynomial of degree at most $d$ and assume $G$ is not identically zero. Let\n",
    "$X$ be a number drawn at random (i.e. all numbers are\n",
    "equally likely to be drawn) \n",
    "from $ \\left \\{ 1, 2, ..., 100d \\right \\}$. Show that $\\mathbb{P} \\left (  G(X) \\neq 0 \\right) \\ge 0.99$. (Hint: What does the fundamental theorem of algebra say?)\n",
    "\n",
    "#### _Solution:_\n",
    "   \n",
    "(none)"
   ]
  }
 ],
 "metadata": {
  "kernelspec": {
   "display_name": "Python 3",
   "language": "python",
   "name": "python3"
  },
  "language_info": {
   "codemirror_mode": {
    "name": "ipython",
    "version": 3
   },
   "file_extension": ".py",
   "mimetype": "text/x-python",
   "name": "python",
   "nbconvert_exporter": "python",
   "pygments_lexer": "ipython3",
   "version": "3.8.3"
  }
 },
 "nbformat": 4,
 "nbformat_minor": 1
}