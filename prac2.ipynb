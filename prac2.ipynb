{
 "cells": [
  {
   "cell_type": "markdown",
   "metadata": {
    "collapsed": true
   },
   "source": [
    "# Practical 2 \n",
    "\n",
    "* This is Ron Ramsay's solutions to a practical problem set given within courses STAT2203/STAT7203 at the University of Queensland in Semester 2, 2020.\n",
    "* A programmatic approach is taken using Python 3.8.\n",
    "* Related or sub-matters are sometimes rambled on about."
   ]
  },
  {
   "cell_type": "code",
   "execution_count": 1,
   "metadata": {},
   "outputs": [],
   "source": [
    "import itertools\n",
    "from math import factorial\n",
    "from typing import Iterable\n",
    "\n",
    "import numpy as np\n",
    "import pandas as pd"
   ]
  },
  {
   "cell_type": "markdown",
   "metadata": {},
   "source": [
    "## Question 1\n",
    "\n",
    "Warren Buffet challenges Bill Gates to a game of dice. Gates picks one of the\n",
    "following four-sided dice, then Buffet chooses one of the remaining dice.\n",
    "Whoever rolls the highest number wins. The three dice have the following numbers\n",
    "on their faces:\n",
    "\n",
    "    (die A): 12, 10, 3, 1\n",
    "    (die B): 9, 8, 7, 2\n",
    "    (die C): 11, 6, 5, 4\n",
    "  \n",
    "What is the probability of Buffett winning the game, assuming he chooses his die\n",
    "to maximise his probability of winning?"
   ]
  },
  {
   "cell_type": "markdown",
   "metadata": {},
   "source": [
    "##### Solution:\n",
    "\n",
    "Let's define the problem's objects."
   ]
  },
  {
   "cell_type": "code",
   "execution_count": 2,
   "metadata": {},
   "outputs": [],
   "source": [
    "dice = {  # for each die, the set of equilikely outcomes.\n",
    "    'A': (12, 10, 3, 1),\n",
    "    'B': (9, 8, 7, 2),\n",
    "    'C': (11, 6, 5, 4)}"
   ]
  },
  {
   "cell_type": "markdown",
   "metadata": {},
   "source": [
    "We need to know which dice perform better against others on average.\n",
    "\n",
    "We define a function that enumerates the sample space for a pair of dice, indicating the winner for each possible permutation of die faces."
   ]
  },
  {
   "cell_type": "code",
   "execution_count": 3,
   "metadata": {},
   "outputs": [],
   "source": [
    "def sample_space_first_beats_second(\n",
    "        A: Iterable, B: Iterable) -> pd.DataFrame:\n",
    "    \"\"\"\n",
    "    Return a table dimensioned |A|x|B|, representing a sample space \n",
    "    corresponding to the cartesian product of the sub-outcomes of `A` and `B`.\n",
    "    Each overall outcome will be in (1,-1, 0) \n",
    "    respectively indicating the conditions of (A > B, A < B, A == B),\n",
    "    i.e. in the same manner as the C-style `cmp` function.\n",
    "    \"\"\"\n",
    "    return pd.DataFrame(\n",
    "        data={b: [(a > b) - (a < b) for a in A] for b in B}, \n",
    "        index=A)"
   ]
  },
  {
   "cell_type": "markdown",
   "metadata": {},
   "source": [
    "Below are the sample spaces for each pair combination from the set of three dice. \n",
    "Each table shows whether an outcome of the first die (each row) beats an outcome of the second die (each column). Values 1, -1, 0 respectively indicate win, lose, draw."
   ]
  },
  {
   "cell_type": "code",
   "execution_count": 4,
   "metadata": {},
   "outputs": [
    {
     "name": "stdout",
     "output_type": "stream",
     "text": [
      "\n",
      "('A', 'B'):\n",
      "\n",
      "    9  8  7  2\n",
      "12  1  1  1  1\n",
      "10  1  1  1  1\n",
      "3  -1 -1 -1  1\n",
      "1  -1 -1 -1 -1\n",
      "\n",
      "('A', 'C'):\n",
      "\n",
      "    11  6   5   4 \n",
      "12   1   1   1   1\n",
      "10  -1   1   1   1\n",
      "3   -1  -1  -1  -1\n",
      "1   -1  -1  -1  -1\n",
      "\n",
      "('B', 'C'):\n",
      "\n",
      "   11  6   5   4 \n",
      "9  -1   1   1   1\n",
      "8  -1   1   1   1\n",
      "7  -1   1   1   1\n",
      "2  -1  -1  -1  -1\n"
     ]
    }
   ],
   "source": [
    "dice_pairs_sample_spaces = {\n",
    "    pair_keys: sample_space_first_beats_second(\n",
    "        dice[pair_keys[0]], dice[pair_keys[1]])\n",
    "    for pair_keys in itertools.combinations(dice.keys(), r=2)}\n",
    "\n",
    "for k,v in dice_pairs_sample_spaces.items():\n",
    "    print(f\"\\n{k}:\\n\\n{v}\")"
   ]
  },
  {
   "cell_type": "markdown",
   "metadata": {},
   "source": [
    "Now we can assess which dice are better, and by how much. We can simply count and compare outcomes to achieve this, since each sub-outcome of a die is assumed to be equilikely.\n",
    "\n",
    "**Probability of winning**: In all of these tables, there is no drawn outcome (of value 0), i.e. all outcomes are binary, i.e. either a win (1) or a loss (-1). Therefore for these dice the probability of winning is the mean number of winning outcomes, i.e. the number of 'ones' divided by the total number of outcomes (16), e.g. for die A versus die B: 9/16 = 0.5625 = 56.25%.\n",
    "\n",
    "**Profit margin**: If draws were possible outcomes in this set of dice, the 'probability of winning' might not be sufficient to evaluate a die, because there is no distinguishment as to whether a non-win outcome was a draw (which has no cost) or a loss (which does have cost). We can instead use [profit margin](https://en.wikipedia.org/wiki/Profit_margin), which is the expected profit for a trial when 1 unit of currency is wagered on it. From any of the tables above, (and by the equilikely principle) the expected profit is the mean of all the (1, -1, 0) outcomes, e.g. for die A versus die B: (9(1) + 7(-1))/16 = 1/8 = 0.125.\n",
    "\n",
    "Here are the evaluations:"
   ]
  },
  {
   "cell_type": "code",
   "execution_count": 5,
   "metadata": {},
   "outputs": [
    {
     "data": {
      "text/html": [
       "<div>\n",
       "<style scoped>\n",
       "    .dataframe tbody tr th:only-of-type {\n",
       "        vertical-align: middle;\n",
       "    }\n",
       "\n",
       "    .dataframe tbody tr th {\n",
       "        vertical-align: top;\n",
       "    }\n",
       "\n",
       "    .dataframe thead th {\n",
       "        text-align: right;\n",
       "    }\n",
       "</style>\n",
       "<table border=\"1\" class=\"dataframe\">\n",
       "  <thead>\n",
       "    <tr style=\"text-align: right;\">\n",
       "      <th></th>\n",
       "      <th>prob(win)</th>\n",
       "      <th>profit_margin</th>\n",
       "    </tr>\n",
       "    <tr>\n",
       "      <th>dice</th>\n",
       "      <th></th>\n",
       "      <th></th>\n",
       "    </tr>\n",
       "  </thead>\n",
       "  <tbody>\n",
       "    <tr>\n",
       "      <th>(A, B)</th>\n",
       "      <td>0.5625</td>\n",
       "      <td>0.125</td>\n",
       "    </tr>\n",
       "    <tr>\n",
       "      <th>(B, C)</th>\n",
       "      <td>0.5625</td>\n",
       "      <td>0.125</td>\n",
       "    </tr>\n",
       "    <tr>\n",
       "      <th>(C, A)</th>\n",
       "      <td>0.5625</td>\n",
       "      <td>0.125</td>\n",
       "    </tr>\n",
       "  </tbody>\n",
       "</table>\n",
       "</div>"
      ],
      "text/plain": [
       "        prob(win)  profit_margin\n",
       "dice                            \n",
       "(A, B)     0.5625          0.125\n",
       "(B, C)     0.5625          0.125\n",
       "(C, A)     0.5625          0.125"
      ]
     },
     "execution_count": 5,
     "metadata": {},
     "output_type": "execute_result"
    }
   ],
   "source": [
    "data_rows = []\n",
    "for k,v in dice_pairs_sample_spaces.items():\n",
    "    prob_win = (v.values == 1).mean()\n",
    "    profit_margin = v.values.mean()\n",
    "    if profit_margin < 0:\n",
    "        k = k[::-1]  # Reverse the keys.\n",
    "        prob_win = 1 - prob_win  # Take the complement.\n",
    "        profit_margin *= -1  # Take the negative.\n",
    "    data_rows.append(\n",
    "        {'dice': k, 'prob(win)': prob_win, 'profit_margin': profit_margin})\n",
    "df = pd.DataFrame(data=data_rows)\n",
    "df.set_index('dice', inplace=True, drop=True)\n",
    "df.sort_index(inplace=True)\n",
    "df"
   ]
  },
  {
   "cell_type": "markdown",
   "metadata": {},
   "source": [
    "We see a **cyclical situation** whereby \n",
    "A beats B, B beats C, and C beats A, all at the same expectation.\n",
    "\n",
    "Whichever die Bill Gates picks, (since he is nominated as the first player),\n",
    "Warren Buffet will then choose the die that has a better expectation.\n",
    "\n",
    "*Answer to problem:* The **probability** of **Buffett winning** the game is **56.25%**.\n",
    "\n",
    "The interesting thing about this game, given the particular set of dice, is that\n",
    "the player who is given the first choice of die is actually at a disadvantage!\n",
    "\n",
    "Sets of dice like this are [non-transitive](https://en.wikipedia.org/wiki/Nontransitive_dice)."
   ]
  },
  {
   "cell_type": "code",
   "execution_count": 6,
   "metadata": {},
   "outputs": [],
   "source": [
    "# Tidy up to remove programming objects no longer needed.\n",
    "del dice\n",
    "del sample_space_first_beats_second\n",
    "del dice_pairs_sample_spaces\n",
    "del data_rows\n",
    "del df"
   ]
  },
  {
   "cell_type": "markdown",
   "metadata": {},
   "source": [
    "## Question 2\n",
    "We draw at random 5 numbers from $\\left \\{1, ..., 100 \\right \\}$, *with replacement* \n",
    "(e.g. drawing number 9 twice is possible). \n",
    "What is the probability that exactly 3 numbers are even?\n",
    "\n",
    "##### Solution:\n",
    "\n",
    "A single die-roll to produce an even number, as a *Bernoulli trial*, has a consistent probability of \n",
    "$\\frac{50}{100} = \\frac{1}{2}$,\n",
    "so let's take advantage of the *equilikely principle*.\n",
    "In doing so, we will consider the ratio of the number of possible outcomes in our event\n",
    "to that of the complete sample space.\n",
    "\n",
    "Let $A$ be our event, \n",
    "whereby an outcome has an even number for exactly 3 of the 5 trials.\n",
    "\n",
    "The number of outcomes in our event is:\n",
    "$|A| = {^{5}\\textrm{C}_{3}} = \\binom{5}{3} = \\frac{5!}{3!(5-3)!}\n",
    "= \\frac{5 \\times 4}{2 \\times 1}= 10$.\n",
    "\n",
    ">This is equivalent to the _binomial coeficient_ which counts the number of ways\n",
    ">in which $r$ objects can be chosen from $n$ possibilities when order doesn't matter.\n",
    ">In our case, it's the number of ways we can _choose_ exactly 3 of 5 trials to be even number.\n",
    "\n",
    "For 5 trials, there are $2^5$ potential outcomes, so the cardinality of our sample space is:\n",
    "$|\\Omega| = 32$.\n",
    "\n",
    "The ratio of the above cardinalities is the probability of our event:\n",
    "$P(A) = \\frac{|A|}{|\\Omega|} = \\frac{10}{32} = 0.3125$."
   ]
  },
  {
   "cell_type": "code",
   "execution_count": 7,
   "metadata": {},
   "outputs": [
    {
     "name": "stdout",
     "output_type": "stream",
     "text": [
      "Probability of event: 0.3125\n"
     ]
    }
   ],
   "source": [
    "def binomial_coefficient(n: int, r: int) -> int: \n",
    "    \"\"\"\n",
    "    Return the number of ways in which `r` objects can be chosen \n",
    "    from `n` possibilities when order doesn't matter.\n",
    "    \"\"\"\n",
    "    return int(factorial(n) / factorial(r) / factorial(n - r))\n",
    "\n",
    "n = 5\n",
    "r = 3\n",
    "\n",
    "event_cardinality = binomial_coefficient(n, r)\n",
    "omega_cardinality = 2**n\n",
    "\n",
    "print(\"Probability of event:\", event_cardinality / omega_cardinality)"
   ]
  },
  {
   "cell_type": "code",
   "execution_count": 8,
   "metadata": {},
   "outputs": [],
   "source": [
    "# (Tidy up to remove objects no longer needed.)\n",
    "del n, r, event_cardinality, omega_cardinality  #, binomial_coefficient"
   ]
  },
  {
   "cell_type": "markdown",
   "metadata": {},
   "source": [
    "## Question 3\n",
    "We draw at random 5 numbers from $\\left \\{1, ..., 100 \\right \\}$, *without replacement*. What is the\n",
    "probability that exactly 3 numbers are even?\n",
    "\n",
    "##### Solution:\n",
    "\n",
    "As in the previous question, the number of elemental outcomes in our event remains the same: $|A| = 10$. However, because numbers are not replaced back into the set between draws, the probabilities of odds and evens is affected after each draw. \n",
    "For example, although the probability of an even number for the first draw will remain at $\\frac{50}{100}$, probabilities for the second draw are dependent on the first, e.g. if the first draw is even, then the probability of even in the second draw is $\\frac{49}{99}$, whereas the probability of odd in the second draw is $\\frac{50}{99}$. There are a different sequence of such fractions for each of the 10 permutations (of 3 even and 2 odd draws), but it can be shown (if one posessed skill and stamina) that the product of all 5 fractions for any of the 10 permutations is equal to $\\frac{50 \\times 49 \\times 48 \\times 50 \\times 49}{100 \\times 99 \\times 98 \\times 97 \\times 96}$. The answer to question is $10 \\frac{50 \\times 49 \\times 48 \\times 50 \\times 49}{100 \\times 99 \\times 98 \\times 97 \\times 96} \\approx 0.31891$."
   ]
  },
  {
   "cell_type": "code",
   "execution_count": 9,
   "metadata": {},
   "outputs": [
    {
     "name": "stdout",
     "output_type": "stream",
     "text": [
      "Answer: Probability: 0.318910757055087\n"
     ]
    }
   ],
   "source": [
    "def question_3_type_problem(n_pool: int, n_draw: int, n_success: int) -> float:\n",
    "    \n",
    "    assert n_pool % 2 == 0, \"The pool must hold an even number of elements.\"\n",
    "    assert n_pool / 2 >= n_draw, \"Drawing more than half of the pool is not catered for in this implementation.\"\n",
    "    \n",
    "    n_perms = binomial_coefficient(n_draw, n_success)\n",
    "    \n",
    "    numerators = np.array(\n",
    "        [n_pool / 2 - i for i in range(n_success)] +\n",
    "        [n_pool / 2 - i for i in range(n_draw - n_success)])\n",
    "    \n",
    "    denominators = np.array([n_pool - i for i in range(n_draw)])\n",
    "    \n",
    "    return n_perms * np.product(numerators) / np.product(denominators)\n",
    "\n",
    "print(\"Answer: Probability:\", question_3_type_problem(n_pool=100, n_draw=5, n_success=3))"
   ]
  },
  {
   "cell_type": "markdown",
   "metadata": {},
   "source": [
    "Here is an (completely untested) answer for the same problem but for a reduced pool of $\\left \\{1, ..., 10 \\right \\}$:"
   ]
  },
  {
   "cell_type": "code",
   "execution_count": 10,
   "metadata": {},
   "outputs": [
    {
     "name": "stdout",
     "output_type": "stream",
     "text": [
      "For reduced pool of 10: Probability: 0.3968253968253968\n"
     ]
    }
   ],
   "source": [
    "print(\"For reduced pool of 10: Probability:\", question_3_type_problem(n_pool=10, n_draw=5, n_success=3))"
   ]
  },
  {
   "cell_type": "markdown",
   "metadata": {},
   "source": [
    "## Question 4\n",
    "Let $Y$ be a number drawn at random from $\\left \\{ 1, 2, ..., 60 \\right \\}$; (all numbers are equally\n",
    "likely to be drawn).\n",
    "\n",
    "(a) What is the probability that $Y$ is divisible by 2?\n",
    "\n",
    "(b) What is the probability that $Y$ is divisible by 2 or 3?\n",
    "\n",
    "(c) What is the probability that $Y$ is divisible by 2 or 3 or 5?\n",
    "\n",
    "##### Solution:\n",
    "\n",
    "(i) A programmatic solution:"
   ]
  },
  {
   "cell_type": "code",
   "execution_count": 11,
   "metadata": {
    "pycharm": {
     "is_executing": true
    }
   },
   "outputs": [
    {
     "name": "stdout",
     "output_type": "stream",
     "text": [
      "Probability of a draw being divisible by an element within a given set:\n",
      "{2} : 0.5\n",
      "{2, 3} : 0.6667\n",
      "{2, 3, 5} : 0.7333\n"
     ]
    }
   ],
   "source": [
    "def divisible_by(n: int, divisors: Iterable[int]) -> bool:\n",
    "    \"Return whether `n` is divisible by any of `divisors`.\"\n",
    "    for e in divisors:\n",
    "        if n % e == 0:\n",
    "            return True\n",
    "    return False\n",
    "\n",
    "N = 60  # state space cardinality.\n",
    "omega = set(range(1, N + 1))  # state space.\n",
    "events_divisors = ({2}, {2, 3}, {2, 3, 5})\n",
    "\n",
    "print(\"Probability of a draw being divisible by an element within a given set:\")\n",
    "for divisors in events_divisors:\n",
    "    divisibles = {e for e in omega if divisible_by(e, divisors)}\n",
    "    print(divisors, \":\", round(len(divisibles) / N, 4))"
   ]
  },
  {
   "cell_type": "markdown",
   "metadata": {},
   "source": [
    "(ii) A paper solution:\n",
    "\n",
    "Let $A_{n_1|n_2|...}$ be the event where an outcome is divisible by at least one element of $\\{n_1, n_2, ...\\}$; e.g.\n",
    "\n",
    "- $A_{2} = \\{2, 4, 6, ..., 60 \\}$\n",
    "- $A_{3} = \\{3, 6, 9, ..., 60 \\}$ \n",
    "- $A_{5} = \\{5, 10, 15, ..., 60 \\}$\n",
    "\n",
    "\n",
    "- $|A_{2}| = 30$\n",
    "- $|A_{3}| = 20$\n",
    "- $|A_{5}| = 12$\n",
    "\n",
    "We want $P(A_{2|3|5})$, where\n",
    "$A_{2|3|5} = A_{2} \\cup A_{3} \\cup A_{5}$. \n",
    "\n",
    "\n",
    "$$\\left|\\bigcup_{i=1}^n A_i\\right| = \\sum_{k=1}^n (-1)^{k+1} \\left( \\sum_{1 \\leqslant i_1 < \\cdots < i_k \\leqslant n} | A_{i_1} \\cap \\cdots \\cap A_{i_k} | \\right)$$"
   ]
  },
  {
   "cell_type": "markdown",
   "metadata": {},
   "source": [
    "## Question 5\n",
    "Let $(a_1, ... , a_n)$ be a random permutation of the integers $ \\left \\{ 1, 2, ..., n \\right \\}$ with all permuations equally likely.\n",
    "\n",
    "   (a) What is the probability that $a_1 = 1$?\n",
    "\n",
    "   (b) What is the probability that $a_1 = 1$ or $a_2 = 2$?\n",
    "\n",
    "   (c) What is the probability that $a_1 = 1$ or $a_2 = 2$ or $a_3 = 3$?\n",
    "   \n",
    "##### Solution:\n",
    "\n",
    "The number of permutations in the state space is: $|\\Omega| = n!$. \n",
    "\n",
    "\n",
    "(a) \n",
    "\n",
    "If $a_1$ is fixed, then there remains $(n-1)!$ permutations of the remaining $n-1$ elements.\n",
    "\n",
    "$$P(a_1 = 1) = \\frac{(n-1)!}{n!} = \\frac{1}{n}$$\n",
    "\n",
    "\n",
    "(b)\n",
    "\n",
    "$$P(a_1 = 1 \\vee a_2 = 2)$$ \n",
    "\n",
    "$$ = P(a_1 = 1) + P(a_2 = 2) - P(a_1 = 1 \\wedge a_2 = 2)$$\n",
    "\n",
    "$$ = \\frac{1}{n} + \\frac{1}{n} - \\frac {\\binom{n}{2}}{n^2}$$\n",
    "\n",
    "$$ = \\frac{2}{n} - \\frac {n!}{2!n^2(n-2!)} $$\n",
    "\n",
    "\n",
    "\n",
    "(c)\n",
    "\n",
    "$$P(a_1 = 1 \\vee a_2 = 2 \\vee a_3 = 3)$$ \n",
    "\n",
    "$$ = P(a_1 = 1) + P(a_2 = 2) + P(a_3 = 3) - 3 \\cdot P(a_1 = 1 \\wedge a_2 = 2) - P(a_1 = 1 \\wedge a_2 = 2 \\wedge a_3 = 3)$$\n",
    "\n",
    "$$ = \\frac{3}{n} - 3\\frac {\\binom{n}{2}}{n^2} - \\frac {\\binom{n}{3}}{n^3}$$\n"
   ]
  },
  {
   "cell_type": "markdown",
   "metadata": {},
   "source": [
    "## Question 6\n",
    "Testing whether a multivariate polynomial is equal to zero is a standard problem\n",
    "in computational complexity. We will consider the following simpler setting. Let\n",
    "$G$ be a polynomial of degree at most $d$ and assume $G$\n",
    "is not identically zero.\n",
    "Let $X$ be a number drawn at random (i.e. all numbers are\n",
    "equally likely to be drawn) from $ \\left \\{ 1, 2, ..., 100d \\right \\}$.\n",
    "Show that $P \\left (  G(X) \\neq 0 \\right) \\ge 0.99$.\n",
    "(Hint: What does the fundamental theorem of algebra say?)\n",
    "\n",
    "#### _Solution:_\n",
    "   \n",
    "*This solution is adapted from the lecturer's.*\n",
    "\n",
    "We need to prove $P \\left(  G(X) \\neq 0 \\right) \\ge 0.99$.\n",
    "We will accomplish this instead via the complement of the event; i.e. we'll prove\n",
    "$P \\left (  G(X) = 0 \\right) < 0.01%$.\n",
    "\n",
    "The *fundamental theorem of algebra* informs us that a polynomial $G$ of order\n",
    "$d$ has at most $d$ roots, i.e. values of $x$ such that $G(x) = 0$.\n",
    "\n",
    "Every trial of our experiment has a sample space of $100d$, whereas at most\n",
    "only $d$ outcomes exist that\n",
    "satisfy our event condition of $G(X)=0$.\n",
    "As that proportion is only $\\frac{1}{100}$ of the sample space, we conclude that\n",
    "$P \\left (  G(X) = 0 \\right) \\le 0.01%$\n",
    "for any possible trial. \n",
    "\n",
    "For completeness, to \n",
    "turn the $\\le$ sign of this inequality into a $\\lt$, we just have to cite\n",
    "that polynomials of order $d$ do exist that have *less* than $d$ roots.\n"
   ]
  }
 ],
 "metadata": {
  "kernelspec": {
   "display_name": "Python 3",
   "language": "python",
   "name": "python3"
  },
  "language_info": {
   "codemirror_mode": {
    "name": "ipython",
    "version": 3
   },
   "file_extension": ".py",
   "mimetype": "text/x-python",
   "name": "python",
   "nbconvert_exporter": "python",
   "pygments_lexer": "ipython3",
   "version": "3.8.3"
  }
 },
 "nbformat": 4,
 "nbformat_minor": 1
}
